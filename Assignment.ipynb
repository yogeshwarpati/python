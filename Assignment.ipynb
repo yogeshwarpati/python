{
 "cells": [
  {
   "cell_type": "markdown",
   "id": "3e825a5f",
   "metadata": {},
   "source": [
    "# Name - Patil yogeshwar madhukar\n",
    "# Email - yogeshwarhs@gmail.com\n",
    "# contact number - 8446805235\n",
    "# college - 8446805235"
   ]
  },
  {
   "cell_type": "markdown",
   "id": "762de2bf",
   "metadata": {},
   "source": [
    "# Question number one"
   ]
  },
  {
   "cell_type": "code",
   "execution_count": 1,
   "id": "443e07c7",
   "metadata": {},
   "outputs": [
    {
     "name": "stdout",
     "output_type": "stream",
     "text": [
      "enter your salary5000\n",
      "please enter your experience6\n",
      "250.0\n"
     ]
    }
   ],
   "source": [
    "salary = int(input('enter your salary'))\n",
    "duration = int(input(\"please enter your experience\"))\n",
    "if  duration > 5:\n",
    "    bonus = (salary*5)/100\n",
    "    print (bonus)\n",
    "else:\n",
    "    print(\"you are not eligible\")\n",
    "    "
   ]
  },
  {
   "cell_type": "markdown",
   "id": "db63e51d",
   "metadata": {},
   "source": [
    "# Question two"
   ]
  },
  {
   "cell_type": "code",
   "execution_count": 2,
   "id": "6356a1ca",
   "metadata": {},
   "outputs": [
    {
     "name": "stdout",
     "output_type": "stream",
     "text": [
      "enter your marks56\n",
      "your grade is c\n"
     ]
    }
   ],
   "source": [
    "marks = float(input(\"enter your marks\"))\n",
    "if marks < 25:\n",
    "    print('your grade is f')\n",
    "if 25<=marks<45:\n",
    "    print('your grade is E')\n",
    "if 45<=marks<50:\n",
    "    print('your garde is d')\n",
    "if 50<=marks<60:\n",
    "    print('your grade is c')\n",
    "if 80<marks:\n",
    "    print('your grade is a')\n",
    "    \n",
    "    \n",
    " "
   ]
  },
  {
   "cell_type": "markdown",
   "id": "847984a3",
   "metadata": {},
   "source": [
    "# Question three"
   ]
  },
  {
   "cell_type": "code",
   "execution_count": 3,
   "id": "cda959ba",
   "metadata": {},
   "outputs": [
    {
     "name": "stdout",
     "output_type": "stream",
     "text": [
      "enter number classes helded 80\n",
      "enter the number of classes held 50\n",
      "62.5\n",
      "your not elgible for exam\n"
     ]
    }
   ],
   "source": [
    "classes_held = int(input('enter number classes helded '))\n",
    "classes_attended = int(input('enter the number of classes held '))\n",
    "attendence = (classes_attended/classes_held)*100\n",
    "print (attendence)\n",
    "if attendence<75:\n",
    "    print('your not elgible for exam')\n",
    "\n"
   ]
  },
  {
   "cell_type": "markdown",
   "id": "dbd0fb6f",
   "metadata": {},
   "source": [
    "# Question four"
   ]
  },
  {
   "cell_type": "code",
   "execution_count": 62,
   "id": "36b44998",
   "metadata": {},
   "outputs": [
    {
     "name": "stdout",
     "output_type": "stream",
     "text": [
      "enter your age 22\n",
      "enter your sex M or F F\n",
      "enter your marriage status yes or no no\n",
      "she will work only one in urban area\n",
      "error\n"
     ]
    }
   ],
   "source": [
    "age = int(input('enter your age '))\n",
    "sex = (input('enter your sex M or F '))\n",
    "marriage_status = (input('enter your marriage status yes or no '))\n",
    "if sex == 'F':\n",
    "    \n",
    "    print(\"she will work only one in urban area\")\n",
    "if sex == 'M' and 20 < age < 40:\n",
    "    print('you can work anywhere')\n",
    "if sex =='M' and 40 < age <=60:\n",
    "    print(\"you can work in urban area\")\n",
    "else:\n",
    "    print ('error')\n",
    "\n",
    "    \n"
   ]
  },
  {
   "cell_type": "markdown",
   "id": "138ef9ca",
   "metadata": {},
   "source": [
    "# Question five"
   ]
  },
  {
   "cell_type": "code",
   "execution_count": 16,
   "id": "e9243996",
   "metadata": {},
   "outputs": [
    {
     "name": "stdout",
     "output_type": "stream",
     "text": [
      "enter 10 integer\n",
      "1\n",
      "2\n",
      "3\n",
      "4\n",
      "5\n",
      "6\n",
      "7\n",
      "8\n",
      "9\n",
      "9\n",
      "average of 10 integer 5.4\n"
     ]
    }
   ],
   "source": [
    "sum =0\n",
    "print (\"enter 10 integer\") \n",
    "for i in range(10):\n",
    "    number = int(input())\n",
    "    sum = sum + number\n",
    "average = sum / 10\n",
    "print (f'average of 10 integer {average}')"
   ]
  },
  {
   "cell_type": "markdown",
   "id": "ed43c826",
   "metadata": {},
   "source": [
    "# Question six"
   ]
  },
  {
   "cell_type": "code",
   "execution_count": 73,
   "id": "b14f6e8f",
   "metadata": {},
   "outputs": [
    {
     "name": "stdout",
     "output_type": "stream",
     "text": [
      "enter the number5\n",
      "factorial of the number is 120\n"
     ]
    }
   ],
   "source": [
    "number = int(input('enter the number'))\n",
    "factorial = 1\n",
    "for i in range(1, number+1):\n",
    "    factorial = factorial*i\n",
    "print(f'factorial of the number is {factorial}')\n",
    "    "
   ]
  },
  {
   "cell_type": "markdown",
   "id": "65672435",
   "metadata": {},
   "source": [
    "# Question seven"
   ]
  },
  {
   "cell_type": "code",
   "execution_count": 8,
   "id": "c8165a64",
   "metadata": {},
   "outputs": [
    {
     "name": "stdout",
     "output_type": "stream",
     "text": [
      "enter integers\n",
      "1\n",
      "do you want to quit (if you press'q'):\n",
      "2\n",
      "do you want to quit (if you press'q'):\n",
      "3\n",
      "do you want to quit (if you press'q'):\n",
      "4\n",
      "do you want to quit (if you press'q'):\n",
      "5\n",
      "do you want to quit (if you press'q'):q\n",
      "average of integer 3.0\n"
     ]
    }
   ],
   "source": [
    "sum = 0\n",
    "count = 0\n",
    "print (\"enter integers\")\n",
    "for i in range(1,1000):\n",
    "    number = int(input())\n",
    "    sum = sum + number\n",
    "    count = count + 1\n",
    "    average = sum / 10\n",
    "    quit = input(\"do you want to quit (if you press'q'):\")\n",
    "    if quit == 'q' :\n",
    "        break\n",
    "average = sum/count\n",
    "print (f'average of integer {average}')\n",
    "    \n",
    "\n"
   ]
  },
  {
   "cell_type": "markdown",
   "id": "9ac617ac",
   "metadata": {},
   "source": [
    "# Question eight"
   ]
  },
  {
   "cell_type": "code",
   "execution_count": 11,
   "id": "c7ca1d07",
   "metadata": {},
   "outputs": [
    {
     "name": "stdout",
     "output_type": "stream",
     "text": [
      "amstrong number is between 100 to 500 are \n",
      "\n",
      "153\n",
      "370\n",
      "371\n",
      "407\n"
     ]
    }
   ],
   "source": [
    "print ('amstrong number is between 100 to 500 are \\n')\n",
    "for i in range (100,500):\n",
    "    a= i % 10\n",
    "    ba = i // 10\n",
    "    b = ba % 10\n",
    "    c = ba // 10\n",
    "    sum_cube = (a*a*a)+(b*b*b)+(c*c*c)\n",
    "    if i == sum_cube:\n",
    "        print(i)"
   ]
  },
  {
   "cell_type": "markdown",
   "id": "88802e58",
   "metadata": {},
   "source": [
    "# question nine"
   ]
  },
  {
   "cell_type": "code",
   "execution_count": 12,
   "id": "fd17c75c",
   "metadata": {},
   "outputs": [
    {
     "name": "stdout",
     "output_type": "stream",
     "text": [
      "length of string 'refrigrator' is \n",
      "11\n"
     ]
    }
   ],
   "source": [
    "x = ('refrigrator')\n",
    "print(\"length of string 'refrigrator' is \")\n",
    "count = 0\n",
    "for i in x:\n",
    "    count = count +1\n",
    "print(count)"
   ]
  },
  {
   "cell_type": "markdown",
   "id": "2edee929",
   "metadata": {},
   "source": [
    "# Question Ten"
   ]
  },
  {
   "cell_type": "code",
   "execution_count": 7,
   "id": "7740843a",
   "metadata": {},
   "outputs": [
    {
     "name": "stdout",
     "output_type": "stream",
     "text": [
      "enter your name: \n",
      "Yogeshwar madhukar patil\n",
      "your name is Y, m, patil\n"
     ]
    }
   ],
   "source": [
    "Print('enter your name: ')\n",
    "name = input()\n",
    "size = len(name)\n",
    "count = 0\n",
    "for i in range(size):\n",
    "    first = name[0]\n",
    "    if name[i] == ' ':\n",
    "        middle = name[i+1]\n",
    "        a = i+1\n",
    "        break\n",
    "for j in range(a, size):\n",
    "    if name[j] == ' ':\n",
    "        last = name[j+1:size]\n",
    "        break\n",
    "print(f'your name is {first}, {middle}, {last}') \n",
    "                      "
   ]
  },
  {
   "cell_type": "code",
   "execution_count": null,
   "id": "1aeea46c",
   "metadata": {},
   "outputs": [],
   "source": []
  }
 ],
 "metadata": {
  "kernelspec": {
   "display_name": "Python 3",
   "language": "python",
   "name": "python3"
  },
  "language_info": {
   "codemirror_mode": {
    "name": "ipython",
    "version": 3
   },
   "file_extension": ".py",
   "mimetype": "text/x-python",
   "name": "python",
   "nbconvert_exporter": "python",
   "pygments_lexer": "ipython3",
   "version": "3.8.8"
  }
 },
 "nbformat": 4,
 "nbformat_minor": 5
}
